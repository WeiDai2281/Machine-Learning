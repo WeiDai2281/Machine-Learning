{
 "cells": [
  {
   "cell_type": "markdown",
   "metadata": {},
   "source": [
    "### 1. Gaussian process"
   ]
  },
  {
   "cell_type": "markdown",
   "metadata": {},
   "source": [
    "a) The following code implement the Gaussian process method and make predictions on test data."
   ]
  },
  {
   "cell_type": "code",
   "execution_count": null,
   "metadata": {
    "collapsed": true
   },
   "outputs": [],
   "source": [
    "import numpy as np\n",
    "import matplotlib.pyplot as plt\n",
    "import math\n",
    "import pandas as pd\n",
    "xtrain = np.loadtxt('X_train.csv',delimiter = ',', dtype = 'float')\n",
    "xtest = np.loadtxt('X_test.csv', delimiter = ',', dtype = 'float')\n",
    "ytrain = np.loadtxt('y_train.csv', delimiter = ',', dtype = 'float')\n",
    "ytest = np.loadtxt('y_test.csv', delimiter = ',', dtype = 'float')"
   ]
  },
  {
   "cell_type": "code",
   "execution_count": 3,
   "metadata": {
    "collapsed": false,
    "deletable": true,
    "editable": true
   },
   "outputs": [],
   "source": [
    "n = xtrain.shape[0]\n",
    "def Kernelmatrix(x, b):\n",
    "    kernelmatrix = []\n",
    "    for i in range(n):\n",
    "        temp = []\n",
    "        for j in range(n):\n",
    "            temp.append(math.exp(-(1.0/b) * np.dot(x[i] - x[j], x[i] - x[j])))\n",
    "        kernelmatrix.append(temp)\n",
    "    return np.array(kernelmatrix)\n",
    "\n",
    "def Kernelentity(x, d, b):\n",
    "    k_xd = []\n",
    "    for i in range(n):\n",
    "        k_xd.append(math.exp(-(1.0/b) * np.dot(x - d[i], x - d[i])))\n",
    "    return np.array(k_xd)"
   ]
  },
  {
   "cell_type": "code",
   "execution_count": 4,
   "metadata": {
    "collapsed": false,
    "deletable": true,
    "editable": true
   },
   "outputs": [],
   "source": [
    "#calculate\n",
    "n1 = xtest.shape[0]   \n",
    "def predict(sigma, kernelmatrix, b):\n",
    "    prediction = [0 for i in range(n1)]\n",
    "    for i in range(n1):\n",
    "        temp = np.linalg.inv(sigma * np.identity(n) + kernelmatrix)\n",
    "        prediction[i] = np.dot(Kernelentity(xtest[i], xtrain, b), np.dot(temp, ytrain))\n",
    "    return np.array(prediction)\n",
    "\n",
    "#rmse table\n",
    "b = [5,7,9,11,13,15]\n",
    "sigma2 = [.1,.2,.3,.4,.5,.6,.7,.8,.9,1]\n",
    "rmse = 0\n",
    "result = []\n",
    "for i in range(len(b)):\n",
    "    tempresult = []\n",
    "    for j in range(len(sigma2)):\n",
    "        kernelmatrix = Kernelmatrix(xtrain, b[i])\n",
    "        #print predict(sigma2[j], kernelmatrix, b[i])\n",
    "        error = predict(sigma2[j], kernelmatrix, b[i]) - ytest\n",
    "        #print error\n",
    "        rmse = math.sqrt(np.dot(error, error)/(1.0 * n1))\n",
    "        tempresult.append(rmse)\n",
    "    result.append(tempresult)"
   ]
  },
  {
   "cell_type": "markdown",
   "metadata": {},
   "source": [
    "b). Below is the table of RMSE in different parameters"
   ]
  },
  {
   "cell_type": "code",
   "execution_count": 13,
   "metadata": {
    "collapsed": false,
    "deletable": true,
    "editable": true
   },
   "outputs": [
    {
     "data": {
      "text/html": [
       "<div>\n",
       "<table border=\"1\" class=\"dataframe\">\n",
       "  <thead>\n",
       "    <tr style=\"text-align: right;\">\n",
       "      <th></th>\n",
       "      <th>5</th>\n",
       "      <th>7</th>\n",
       "      <th>9</th>\n",
       "      <th>11</th>\n",
       "      <th>13</th>\n",
       "      <th>15</th>\n",
       "    </tr>\n",
       "  </thead>\n",
       "  <tbody>\n",
       "    <tr>\n",
       "      <th>0.1</th>\n",
       "      <td>1.966276</td>\n",
       "      <td>1.920163</td>\n",
       "      <td>1.897649</td>\n",
       "      <td>1.890507</td>\n",
       "      <td>1.895849</td>\n",
       "      <td>1.909603</td>\n",
       "    </tr>\n",
       "    <tr>\n",
       "      <th>0.2</th>\n",
       "      <td>1.933135</td>\n",
       "      <td>1.904877</td>\n",
       "      <td>1.902519</td>\n",
       "      <td>1.914981</td>\n",
       "      <td>1.935586</td>\n",
       "      <td>1.959549</td>\n",
       "    </tr>\n",
       "    <tr>\n",
       "      <th>0.3</th>\n",
       "      <td>1.923420</td>\n",
       "      <td>1.908080</td>\n",
       "      <td>1.917648</td>\n",
       "      <td>1.938849</td>\n",
       "      <td>1.964597</td>\n",
       "      <td>1.990804</td>\n",
       "    </tr>\n",
       "    <tr>\n",
       "      <th>0.4</th>\n",
       "      <td>1.922198</td>\n",
       "      <td>1.915902</td>\n",
       "      <td>1.932514</td>\n",
       "      <td>1.957936</td>\n",
       "      <td>1.985502</td>\n",
       "      <td>2.011915</td>\n",
       "    </tr>\n",
       "    <tr>\n",
       "      <th>0.5</th>\n",
       "      <td>1.924769</td>\n",
       "      <td>1.924804</td>\n",
       "      <td>1.945699</td>\n",
       "      <td>1.973216</td>\n",
       "      <td>2.001314</td>\n",
       "      <td>2.027370</td>\n",
       "    </tr>\n",
       "    <tr>\n",
       "      <th>0.6</th>\n",
       "      <td>1.929213</td>\n",
       "      <td>1.933701</td>\n",
       "      <td>1.957235</td>\n",
       "      <td>1.985764</td>\n",
       "      <td>2.013878</td>\n",
       "      <td>2.039465</td>\n",
       "    </tr>\n",
       "    <tr>\n",
       "      <th>0.7</th>\n",
       "      <td>1.934634</td>\n",
       "      <td>1.942254</td>\n",
       "      <td>1.967403</td>\n",
       "      <td>1.996375</td>\n",
       "      <td>2.024310</td>\n",
       "      <td>2.049463</td>\n",
       "    </tr>\n",
       "    <tr>\n",
       "      <th>0.8</th>\n",
       "      <td>1.940583</td>\n",
       "      <td>1.950380</td>\n",
       "      <td>1.976492</td>\n",
       "      <td>2.005603</td>\n",
       "      <td>2.033307</td>\n",
       "      <td>2.058105</td>\n",
       "    </tr>\n",
       "    <tr>\n",
       "      <th>0.9</th>\n",
       "      <td>1.946820</td>\n",
       "      <td>1.958093</td>\n",
       "      <td>1.984741</td>\n",
       "      <td>2.013835</td>\n",
       "      <td>2.041317</td>\n",
       "      <td>2.065845</td>\n",
       "    </tr>\n",
       "    <tr>\n",
       "      <th>1.0</th>\n",
       "      <td>1.953213</td>\n",
       "      <td>1.965438</td>\n",
       "      <td>1.992341</td>\n",
       "      <td>2.021345</td>\n",
       "      <td>2.048642</td>\n",
       "      <td>2.072976</td>\n",
       "    </tr>\n",
       "  </tbody>\n",
       "</table>\n",
       "</div>"
      ],
      "text/plain": [
       "            5         7         9        11        13        15\n",
       "0.1  1.966276  1.920163  1.897649  1.890507  1.895849  1.909603\n",
       "0.2  1.933135  1.904877  1.902519  1.914981  1.935586  1.959549\n",
       "0.3  1.923420  1.908080  1.917648  1.938849  1.964597  1.990804\n",
       "0.4  1.922198  1.915902  1.932514  1.957936  1.985502  2.011915\n",
       "0.5  1.924769  1.924804  1.945699  1.973216  2.001314  2.027370\n",
       "0.6  1.929213  1.933701  1.957235  1.985764  2.013878  2.039465\n",
       "0.7  1.934634  1.942254  1.967403  1.996375  2.024310  2.049463\n",
       "0.8  1.940583  1.950380  1.976492  2.005603  2.033307  2.058105\n",
       "0.9  1.946820  1.958093  1.984741  2.013835  2.041317  2.065845\n",
       "1.0  1.953213  1.965438  1.992341  2.021345  2.048642  2.072976"
      ]
     },
     "execution_count": 13,
     "metadata": {},
     "output_type": "execute_result"
    }
   ],
   "source": [
    "table = {'5' : pd.Series(result[0], index=sigma2),'7' : pd.Series(result[1], index=sigma2),'9' : pd.Series(result[2], index=sigma2),'11': pd.Series(result[3], index=sigma2),'13': pd.Series(result[4], index=sigma2),'15': pd.Series(result[5], index=sigma2)}\n",
    "show = pd.DataFrame(table, columns=['5', '7', '9', '11', '13', '15'])\n",
    "show"
   ]
  },
  {
   "cell_type": "markdown",
   "metadata": {},
   "source": [
    "c). The best value is when $b = 11$ and $\\sigma^2 = 0.1$. The $RMSE = 1.890507$, so the result is better than the result in HW1 (when implement ridge regression with $\\lambda = 23$ and $p = 2$, we get $RMSE = 2.19$).  \n",
    "However, the GP have some drawbacks. Normally, the GP method takes more time. Especially, when the dimension of variable is high, the complexity of the calculation on kernel matrix will be high too. When we try to find the best hyperparameters, we have to implement the GP method several times, the whole process will be much more time consuming."
   ]
  },
  {
   "cell_type": "markdown",
   "metadata": {},
   "source": [
    "d). The following is the visualization on GP. "
   ]
  },
  {
   "cell_type": "code",
   "execution_count": 6,
   "metadata": {
    "collapsed": false,
    "deletable": true,
    "editable": true
   },
   "outputs": [],
   "source": [
    "# question d\n",
    "xd = np.transpose(xtrain)[3].reshape(350, 1)\n",
    "kernelmatrix_d = Kernelmatrix(xd, 5)\n",
    "def predict_d(sigma, kernelmatrix, b):\n",
    "    prediction = [0 for i in range(n)]\n",
    "    for i in range(n):\n",
    "        temp = np.linalg.inv(sigma * np.identity(n) + kernelmatrix)\n",
    "        prediction[i] = np.dot(Kernelentity(xd[i], xd, b), np.dot(temp, ytrain))\n",
    "    return prediction"
   ]
  },
  {
   "cell_type": "code",
   "execution_count": 7,
   "metadata": {
    "collapsed": false,
    "deletable": true,
    "editable": true
   },
   "outputs": [],
   "source": [
    "prediction_d = predict_d(2, kernelmatrix_d, 5)"
   ]
  },
  {
   "cell_type": "code",
   "execution_count": 8,
   "metadata": {
    "collapsed": false,
    "deletable": true,
    "editable": true
   },
   "outputs": [],
   "source": [
    "#question d\n",
    "xy_plot = np.column_stack((xd, prediction_d))\n",
    "xy_plot = xy_plot[xy_plot[:,0].argsort()]"
   ]
  },
  {
   "cell_type": "code",
   "execution_count": 9,
   "metadata": {
    "collapsed": false,
    "deletable": true,
    "editable": true
   },
   "outputs": [
    {
     "data": {
      "image/png": "[encoded data removed]",
      "text/plain": [
       "<matplotlib.figure.Figure at 0x104b02710>"
      ]
     },
     "metadata": {},
     "output_type": "display_data"
    }
   ],
   "source": [
    "fig, ax = plt.subplots()\n",
    "ax.plot(xd, ytrain, 'ro')\n",
    "ax.plot(xy_plot[:,0], xy_plot[:,1])\n",
    "#ax.plot(x, y2, 'ro')\n",
    "plt.show()"
   ]
  }
 ],
 "metadata": {
  "kernelspec": {
   "display_name": "Python 2",
   "language": "python",
   "name": "python2"
  },
  "language_info": {
   "codemirror_mode": {
    "name": "ipython",
    "version": 2
   },
   "file_extension": ".py",
   "mimetype": "text/x-python",
   "name": "python",
   "nbconvert_exporter": "python",
   "pygments_lexer": "ipython2",
   "version": "2.7.13"
  }
 },
 "nbformat": 4,
 "nbformat_minor": 2
}
