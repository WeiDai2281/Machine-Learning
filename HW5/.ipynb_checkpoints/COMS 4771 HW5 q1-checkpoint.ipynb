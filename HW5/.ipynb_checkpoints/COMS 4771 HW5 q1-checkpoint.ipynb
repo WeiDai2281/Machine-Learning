{
 "cells": [
  {
   "cell_type": "code",
   "execution_count": 1,
   "metadata": {
    "collapsed": true,
    "deletable": true,
    "editable": true
   },
   "outputs": [],
   "source": [
    "import numpy as np\n",
    "import pandas as pd\n",
    "import matplotlib.pyplot as plt"
   ]
  },
  {
   "cell_type": "code",
   "execution_count": 2,
   "metadata": {
    "collapsed": false,
    "deletable": true,
    "editable": true
   },
   "outputs": [],
   "source": [
    "raw_scores = pd.read_csv(\"CFB2016_scores.csv\", header = None)\n",
    "team_name = pd.read_table(\"TeamNames.txt\", header = None)"
   ]
  },
  {
   "cell_type": "code",
   "execution_count": 3,
   "metadata": {
    "collapsed": false,
    "deletable": true,
    "editable": true
   },
   "outputs": [],
   "source": [
    "team_name = np.array(team_name).reshape(760,)\n",
    "scores = np.array(raw_scores)\n",
    "records_shape = scores.shape\n",
    "random_walk_m = np.zeros(shape = (760, 760))"
   ]
  },
  {
   "cell_type": "code",
   "execution_count": 4,
   "metadata": {
    "collapsed": false,
    "deletable": true,
    "editable": true
   },
   "outputs": [],
   "source": [
    "#update the random walk matrix\n",
    "for i in range(records_shape[0]):\n",
    "\n",
    "    random_walk_m[scores[i][0] - 1][scores[i][0] - 1] += 1.0 * scores[i][1]/(scores[i][3] + scores[i][1])\n",
    "    random_walk_m[scores[i][2] - 1][scores[i][0] - 1] += 1.0 * scores[i][1]/(scores[i][3] + scores[i][1])\n",
    "    random_walk_m[scores[i][2] - 1][scores[i][2] - 1] += 1.0 * scores[i][3]/(scores[i][3] + scores[i][1])\n",
    "    random_walk_m[scores[i][0] - 1][scores[i][2] - 1] += 1.0 * scores[i][3]/(scores[i][3] + scores[i][1])\n",
    "#if A win B\n",
    "    if scores[i][1] > scores[i][3]:\n",
    "        random_walk_m[scores[i][0] - 1][scores[i][0] - 1] += 1\n",
    "        random_walk_m[scores[i][2] - 1][scores[i][0] - 1] += 1\n",
    "#if B win A\n",
    "    else:\n",
    "        random_walk_m[scores[i][2] - 1][scores[i][2] - 1] += 1\n",
    "        random_walk_m[scores[i][0] - 1][scores[i][2] - 1] += 1"
   ]
  },
  {
   "cell_type": "code",
   "execution_count": 5,
   "metadata": {
    "collapsed": false,
    "deletable": true,
    "editable": true
   },
   "outputs": [],
   "source": [
    "#normalized the random walk matrix\n",
    "row_sums = random_walk_m.sum(axis=1)\n",
    "normalized_m = random_walk_m / row_sums[:, np.newaxis]"
   ]
  },
  {
   "cell_type": "code",
   "execution_count": 6,
   "metadata": {
    "collapsed": false,
    "deletable": true,
    "editable": true
   },
   "outputs": [],
   "source": [
    "#initialize w0\n",
    "w0 = [1.0/random_walk_m.shape[0] for _ in range(random_walk_m.shape[0])]\n",
    "w0 = np.array(w0)"
   ]
  },
  {
   "cell_type": "code",
   "execution_count": 7,
   "metadata": {
    "collapsed": false,
    "deletable": true,
    "editable": true
   },
   "outputs": [],
   "source": [
    "#define the function to rank the team\n",
    "def rank(t, wt):\n",
    "    for i in range(t):\n",
    "        wt = wt.dot(normalized_m)\n",
    "    return wt"
   ]
  },
  {
   "cell_type": "code",
   "execution_count": 8,
   "metadata": {
    "collapsed": false,
    "deletable": true,
    "editable": true
   },
   "outputs": [],
   "source": [
    "#implement the algorithms four times with different t\n",
    "t = [10, 100, 1000, 10000]\n",
    "result = []\n",
    "for i in t:\n",
    "    result.append(rank(i, w0))"
   ]
  },
  {
   "cell_type": "code",
   "execution_count": 29,
   "metadata": {
    "collapsed": false,
    "deletable": true,
    "editable": true
   },
   "outputs": [],
   "source": [
    "#get the top25 teams index and wt value of it\n",
    "final_wt = []\n",
    "count = 0\n",
    "for ranking in result:\n",
    "    temp = []\n",
    "    count += 1\n",
    "    index = ranking.argsort()[-25:][::-1]\n",
    "    final_wt.append(team_name[index])\n",
    "    final_wt.append(ranking[index])\n"
   ]
  },
  {
   "cell_type": "code",
   "execution_count": 30,
   "metadata": {
    "collapsed": false,
    "deletable": true,
    "editable": true
   },
   "outputs": [],
   "source": [
    "table = pd.DataFrame(final_wt).T\n",
    "table.columns=['t = 10', 'weight', 't = 100', 'weight', 't = 1000', 'weight', 't = 10000', 'weight']"
   ]
  },
  {
   "cell_type": "markdown",
   "metadata": {
    "deletable": true,
    "editable": true
   },
   "source": [
    "a) The top 25 teams and their corresponding values in wt for t = 10, 100, 1000, 10000"
   ]
  },
  {
   "cell_type": "code",
   "execution_count": 31,
   "metadata": {
    "collapsed": false,
    "deletable": true,
    "editable": true
   },
   "outputs": [
    {
     "data": {
      "text/html": [
       "<div>\n",
       "<table border=\"1\" class=\"dataframe\">\n",
       "  <thead>\n",
       "    <tr style=\"text-align: right;\">\n",
       "      <th></th>\n",
       "      <th>t = 10</th>\n",
       "      <th>weight</th>\n",
       "      <th>t = 100</th>\n",
       "      <th>weight</th>\n",
       "      <th>t = 1000</th>\n",
       "      <th>weight</th>\n",
       "      <th>t = 10000</th>\n",
       "      <th>weight</th>\n",
       "    </tr>\n",
       "  </thead>\n",
       "  <tbody>\n",
       "    <tr>\n",
       "      <th>0</th>\n",
       "      <td>Mary Hardin-Baylor</td>\n",
       "      <td>0.0147521</td>\n",
       "      <td>NW Missouri St</td>\n",
       "      <td>0.0382578</td>\n",
       "      <td>Alabama</td>\n",
       "      <td>0.060719</td>\n",
       "      <td>Alabama</td>\n",
       "      <td>0.0672821</td>\n",
       "    </tr>\n",
       "    <tr>\n",
       "      <th>1</th>\n",
       "      <td>NW Missouri St</td>\n",
       "      <td>0.0131511</td>\n",
       "      <td>Alabama</td>\n",
       "      <td>0.0333644</td>\n",
       "      <td>Clemson</td>\n",
       "      <td>0.060408</td>\n",
       "      <td>Clemson</td>\n",
       "      <td>0.0669828</td>\n",
       "    </tr>\n",
       "    <tr>\n",
       "      <th>2</th>\n",
       "      <td>Alabama</td>\n",
       "      <td>0.012412</td>\n",
       "      <td>Clemson</td>\n",
       "      <td>0.0329881</td>\n",
       "      <td>NW Missouri St</td>\n",
       "      <td>0.0304948</td>\n",
       "      <td>Florida St</td>\n",
       "      <td>0.0208352</td>\n",
       "    </tr>\n",
       "    <tr>\n",
       "      <th>3</th>\n",
       "      <td>Clemson</td>\n",
       "      <td>0.0110291</td>\n",
       "      <td>Mary Hardin-Baylor</td>\n",
       "      <td>0.0308828</td>\n",
       "      <td>Florida St</td>\n",
       "      <td>0.0188136</td>\n",
       "      <td>Ohio State</td>\n",
       "      <td>0.0199215</td>\n",
       "    </tr>\n",
       "    <tr>\n",
       "      <th>4</th>\n",
       "      <td>UW-Oshkosh</td>\n",
       "      <td>0.00992525</td>\n",
       "      <td>UW-Oshkosh</td>\n",
       "      <td>0.0168445</td>\n",
       "      <td>Ohio State</td>\n",
       "      <td>0.0179833</td>\n",
       "      <td>Washington</td>\n",
       "      <td>0.0175791</td>\n",
       "    </tr>\n",
       "    <tr>\n",
       "      <th>5</th>\n",
       "      <td>St Thomas</td>\n",
       "      <td>0.00817769</td>\n",
       "      <td>UW-Whitewater</td>\n",
       "      <td>0.0121597</td>\n",
       "      <td>Washington</td>\n",
       "      <td>0.0158894</td>\n",
       "      <td>Virginia Tech</td>\n",
       "      <td>0.0175239</td>\n",
       "    </tr>\n",
       "    <tr>\n",
       "      <th>6</th>\n",
       "      <td>UW-Whitewater</td>\n",
       "      <td>0.00816794</td>\n",
       "      <td>Florida St</td>\n",
       "      <td>0.0104445</td>\n",
       "      <td>Virginia Tech</td>\n",
       "      <td>0.0158242</td>\n",
       "      <td>Michigan</td>\n",
       "      <td>0.0164256</td>\n",
       "    </tr>\n",
       "    <tr>\n",
       "      <th>7</th>\n",
       "      <td>St Francis IN</td>\n",
       "      <td>0.00809767</td>\n",
       "      <td>Grand Valley St</td>\n",
       "      <td>0.0102612</td>\n",
       "      <td>Michigan</td>\n",
       "      <td>0.0148274</td>\n",
       "      <td>NW Missouri St</td>\n",
       "      <td>0.0163421</td>\n",
       "    </tr>\n",
       "    <tr>\n",
       "      <th>8</th>\n",
       "      <td>Mount Union</td>\n",
       "      <td>0.00775471</td>\n",
       "      <td>John Carroll</td>\n",
       "      <td>0.0102459</td>\n",
       "      <td>Pittsburgh</td>\n",
       "      <td>0.0146511</td>\n",
       "      <td>Pittsburgh</td>\n",
       "      <td>0.0162348</td>\n",
       "    </tr>\n",
       "    <tr>\n",
       "      <th>9</th>\n",
       "      <td>James Madison</td>\n",
       "      <td>0.00742784</td>\n",
       "      <td>Ohio State</td>\n",
       "      <td>0.00994073</td>\n",
       "      <td>Oklahoma</td>\n",
       "      <td>0.0143903</td>\n",
       "      <td>Oklahoma</td>\n",
       "      <td>0.0159224</td>\n",
       "    </tr>\n",
       "    <tr>\n",
       "      <th>10</th>\n",
       "      <td>Reinhardt</td>\n",
       "      <td>0.0069544</td>\n",
       "      <td>Ferris St</td>\n",
       "      <td>0.00942623</td>\n",
       "      <td>Penn State</td>\n",
       "      <td>0.0136718</td>\n",
       "      <td>Penn State</td>\n",
       "      <td>0.0151442</td>\n",
       "    </tr>\n",
       "    <tr>\n",
       "      <th>11</th>\n",
       "      <td>John Carroll</td>\n",
       "      <td>0.00691117</td>\n",
       "      <td>St Thomas</td>\n",
       "      <td>0.00933187</td>\n",
       "      <td>Wisconsin</td>\n",
       "      <td>0.0130881</td>\n",
       "      <td>Wisconsin</td>\n",
       "      <td>0.014489</td>\n",
       "    </tr>\n",
       "    <tr>\n",
       "      <th>12</th>\n",
       "      <td>Shepherd</td>\n",
       "      <td>0.00683891</td>\n",
       "      <td>Washington</td>\n",
       "      <td>0.00889067</td>\n",
       "      <td>Louisville</td>\n",
       "      <td>0.0126135</td>\n",
       "      <td>Louisville</td>\n",
       "      <td>0.0139769</td>\n",
       "    </tr>\n",
       "    <tr>\n",
       "      <th>13</th>\n",
       "      <td>California PA</td>\n",
       "      <td>0.00672165</td>\n",
       "      <td>Virginia Tech</td>\n",
       "      <td>0.0087886</td>\n",
       "      <td>Miami FL</td>\n",
       "      <td>0.0124204</td>\n",
       "      <td>Miami FL</td>\n",
       "      <td>0.0137528</td>\n",
       "    </tr>\n",
       "    <tr>\n",
       "      <th>14</th>\n",
       "      <td>North Dakota St</td>\n",
       "      <td>0.00654897</td>\n",
       "      <td>Mount Union</td>\n",
       "      <td>0.00871304</td>\n",
       "      <td>Southern Cal</td>\n",
       "      <td>0.0115895</td>\n",
       "      <td>Southern Cal</td>\n",
       "      <td>0.0128302</td>\n",
       "    </tr>\n",
       "    <tr>\n",
       "      <th>15</th>\n",
       "      <td>Baker</td>\n",
       "      <td>0.00636897</td>\n",
       "      <td>Michigan</td>\n",
       "      <td>0.0081987</td>\n",
       "      <td>North Carolina</td>\n",
       "      <td>0.0114189</td>\n",
       "      <td>North Carolina</td>\n",
       "      <td>0.0126124</td>\n",
       "    </tr>\n",
       "    <tr>\n",
       "      <th>16</th>\n",
       "      <td>Alfred</td>\n",
       "      <td>0.00629096</td>\n",
       "      <td>Pittsburgh</td>\n",
       "      <td>0.00807673</td>\n",
       "      <td>Oklahoma St</td>\n",
       "      <td>0.0112922</td>\n",
       "      <td>Oklahoma St</td>\n",
       "      <td>0.012488</td>\n",
       "    </tr>\n",
       "    <tr>\n",
       "      <th>17</th>\n",
       "      <td>Grand Valley St</td>\n",
       "      <td>0.00619634</td>\n",
       "      <td>Oklahoma</td>\n",
       "      <td>0.00804134</td>\n",
       "      <td>Florida</td>\n",
       "      <td>0.011251</td>\n",
       "      <td>Florida</td>\n",
       "      <td>0.0124562</td>\n",
       "    </tr>\n",
       "    <tr>\n",
       "      <th>18</th>\n",
       "      <td>North Alabama</td>\n",
       "      <td>0.00613562</td>\n",
       "      <td>Emporia St</td>\n",
       "      <td>0.00800668</td>\n",
       "      <td>Tennessee</td>\n",
       "      <td>0.0108133</td>\n",
       "      <td>Tennessee</td>\n",
       "      <td>0.0119733</td>\n",
       "    </tr>\n",
       "    <tr>\n",
       "      <th>19</th>\n",
       "      <td>Harding</td>\n",
       "      <td>0.00576391</td>\n",
       "      <td>Penn State</td>\n",
       "      <td>0.00756942</td>\n",
       "      <td>Auburn</td>\n",
       "      <td>0.0108124</td>\n",
       "      <td>Auburn</td>\n",
       "      <td>0.011973</td>\n",
       "    </tr>\n",
       "    <tr>\n",
       "      <th>20</th>\n",
       "      <td>Marian IN</td>\n",
       "      <td>0.00556592</td>\n",
       "      <td>Wisconsin</td>\n",
       "      <td>0.00728989</td>\n",
       "      <td>Georgia Tech</td>\n",
       "      <td>0.00997832</td>\n",
       "      <td>Georgia Tech</td>\n",
       "      <td>0.0110502</td>\n",
       "    </tr>\n",
       "    <tr>\n",
       "      <th>21</th>\n",
       "      <td>North Central</td>\n",
       "      <td>0.00553723</td>\n",
       "      <td>Louisville</td>\n",
       "      <td>0.0069545</td>\n",
       "      <td>LSU</td>\n",
       "      <td>0.0095472</td>\n",
       "      <td>LSU</td>\n",
       "      <td>0.0105417</td>\n",
       "    </tr>\n",
       "    <tr>\n",
       "      <th>22</th>\n",
       "      <td>Trinity CT</td>\n",
       "      <td>0.00546441</td>\n",
       "      <td>Miami FL</td>\n",
       "      <td>0.00690421</td>\n",
       "      <td>Western Michigan</td>\n",
       "      <td>0.00952065</td>\n",
       "      <td>Western Michigan</td>\n",
       "      <td>0.0105365</td>\n",
       "    </tr>\n",
       "    <tr>\n",
       "      <th>23</th>\n",
       "      <td>Wheaton</td>\n",
       "      <td>0.00545738</td>\n",
       "      <td>North Carolina</td>\n",
       "      <td>0.00654385</td>\n",
       "      <td>Stanford</td>\n",
       "      <td>0.00951113</td>\n",
       "      <td>Stanford</td>\n",
       "      <td>0.0105244</td>\n",
       "    </tr>\n",
       "    <tr>\n",
       "      <th>24</th>\n",
       "      <td>Morningside</td>\n",
       "      <td>0.0054416</td>\n",
       "      <td>Southern Cal</td>\n",
       "      <td>0.00644855</td>\n",
       "      <td>James Madison</td>\n",
       "      <td>0.00868321</td>\n",
       "      <td>Texas A&amp;M</td>\n",
       "      <td>0.00952351</td>\n",
       "    </tr>\n",
       "  </tbody>\n",
       "</table>\n",
       "</div>"
      ],
      "text/plain": [
       "                t = 10      weight             t = 100      weight  \\\n",
       "0   Mary Hardin-Baylor   0.0147521      NW Missouri St   0.0382578   \n",
       "1       NW Missouri St   0.0131511             Alabama   0.0333644   \n",
       "2              Alabama    0.012412             Clemson   0.0329881   \n",
       "3              Clemson   0.0110291  Mary Hardin-Baylor   0.0308828   \n",
       "4           UW-Oshkosh  0.00992525          UW-Oshkosh   0.0168445   \n",
       "5            St Thomas  0.00817769       UW-Whitewater   0.0121597   \n",
       "6        UW-Whitewater  0.00816794          Florida St   0.0104445   \n",
       "7        St Francis IN  0.00809767     Grand Valley St   0.0102612   \n",
       "8          Mount Union  0.00775471        John Carroll   0.0102459   \n",
       "9        James Madison  0.00742784          Ohio State  0.00994073   \n",
       "10           Reinhardt   0.0069544           Ferris St  0.00942623   \n",
       "11        John Carroll  0.00691117           St Thomas  0.00933187   \n",
       "12            Shepherd  0.00683891          Washington  0.00889067   \n",
       "13       California PA  0.00672165       Virginia Tech   0.0087886   \n",
       "14     North Dakota St  0.00654897         Mount Union  0.00871304   \n",
       "15               Baker  0.00636897            Michigan   0.0081987   \n",
       "16              Alfred  0.00629096          Pittsburgh  0.00807673   \n",
       "17     Grand Valley St  0.00619634            Oklahoma  0.00804134   \n",
       "18       North Alabama  0.00613562          Emporia St  0.00800668   \n",
       "19             Harding  0.00576391          Penn State  0.00756942   \n",
       "20           Marian IN  0.00556592           Wisconsin  0.00728989   \n",
       "21       North Central  0.00553723          Louisville   0.0069545   \n",
       "22          Trinity CT  0.00546441            Miami FL  0.00690421   \n",
       "23             Wheaton  0.00545738      North Carolina  0.00654385   \n",
       "24         Morningside   0.0054416        Southern Cal  0.00644855   \n",
       "\n",
       "            t = 1000      weight         t = 10000      weight  \n",
       "0            Alabama    0.060719           Alabama   0.0672821  \n",
       "1            Clemson    0.060408           Clemson   0.0669828  \n",
       "2     NW Missouri St   0.0304948        Florida St   0.0208352  \n",
       "3         Florida St   0.0188136        Ohio State   0.0199215  \n",
       "4         Ohio State   0.0179833        Washington   0.0175791  \n",
       "5         Washington   0.0158894     Virginia Tech   0.0175239  \n",
       "6      Virginia Tech   0.0158242          Michigan   0.0164256  \n",
       "7           Michigan   0.0148274    NW Missouri St   0.0163421  \n",
       "8         Pittsburgh   0.0146511        Pittsburgh   0.0162348  \n",
       "9           Oklahoma   0.0143903          Oklahoma   0.0159224  \n",
       "10        Penn State   0.0136718        Penn State   0.0151442  \n",
       "11         Wisconsin   0.0130881         Wisconsin    0.014489  \n",
       "12        Louisville   0.0126135        Louisville   0.0139769  \n",
       "13          Miami FL   0.0124204          Miami FL   0.0137528  \n",
       "14      Southern Cal   0.0115895      Southern Cal   0.0128302  \n",
       "15    North Carolina   0.0114189    North Carolina   0.0126124  \n",
       "16       Oklahoma St   0.0112922       Oklahoma St    0.012488  \n",
       "17           Florida    0.011251           Florida   0.0124562  \n",
       "18         Tennessee   0.0108133         Tennessee   0.0119733  \n",
       "19            Auburn   0.0108124            Auburn    0.011973  \n",
       "20      Georgia Tech  0.00997832      Georgia Tech   0.0110502  \n",
       "21               LSU   0.0095472               LSU   0.0105417  \n",
       "22  Western Michigan  0.00952065  Western Michigan   0.0105365  \n",
       "23          Stanford  0.00951113          Stanford   0.0105244  \n",
       "24     James Madison  0.00868321         Texas A&M  0.00952351  "
      ]
     },
     "execution_count": 31,
     "metadata": {},
     "output_type": "execute_result"
    }
   ],
   "source": [
    "table"
   ]
  },
  {
   "cell_type": "code",
   "execution_count": 12,
   "metadata": {
    "collapsed": false,
    "deletable": true,
    "editable": true
   },
   "outputs": [],
   "source": [
    "#get the eigenvalue and eigenvector of the transpose of m matrix\n",
    "l, v = np.linalg.eig(np.transpose(normalized_m))"
   ]
  },
  {
   "cell_type": "code",
   "execution_count": 13,
   "metadata": {
    "collapsed": false,
    "deletable": true,
    "editable": true
   },
   "outputs": [],
   "source": [
    "v_inf = v[:, np.argmax(l)]/np.sum(v[:, np.argmax(l)])\n",
    "v_inf2 = v[:, 2] / np.sum(v[:, 2])"
   ]
  },
  {
   "cell_type": "markdown",
   "metadata": {
    "deletable": true,
    "editable": true
   },
   "source": [
    "b) $∥w_t −w_∞∥_1$ as a function of t for t=1,...,10000."
   ]
  },
  {
   "cell_type": "code",
   "execution_count": 14,
   "metadata": {
    "collapsed": false,
    "deletable": true,
    "editable": true
   },
   "outputs": [
    {
     "data": {
      "image/png": "[encoded data removed]",
      "text/plain": [
       "<matplotlib.figure.Figure at 0x108924450>"
      ]
     },
     "metadata": {},
     "output_type": "display_data"
    }
   ],
   "source": [
    "#plot the function\n",
    "w1 = w0\n",
    "function = []\n",
    "for i in range(10000):\n",
    "    w1 = w1.dot(normalized_m)\n",
    "    function.append(np.linalg.norm(w1 - v_inf2, 1))\n",
    "\n",
    "plt.plot(range(1, 10001), function)\n",
    "plt.show()"
   ]
  },
  {
   "cell_type": "code",
   "execution_count": null,
   "metadata": {
    "collapsed": true
   },
   "outputs": [],
   "source": []
  }
 ],
 "metadata": {
  "kernelspec": {
   "display_name": "Python 2",
   "language": "python",
   "name": "python2"
  },
  "language_info": {
   "codemirror_mode": {
    "name": "ipython",
    "version": 2
   },
   "file_extension": ".py",
   "mimetype": "text/x-python",
   "name": "python",
   "nbconvert_exporter": "python",
   "pygments_lexer": "ipython2",
   "version": "2.7.13"
  }
 },
 "nbformat": 4,
 "nbformat_minor": 2
}
