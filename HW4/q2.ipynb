{
 "cells": [
  {
   "cell_type": "code",
   "execution_count": 820,
   "metadata": {
    "collapsed": false,
    "deletable": true,
    "editable": true
   },
   "outputs": [],
   "source": [
    "#import the packages and data files\n",
    "import pandas as pd\n",
    "import numpy as np\n",
    "import matplotlib.pyplot as plt\n",
    "import math\n",
    "\n",
    "movies_raw = pd.read_table(\"movies.txt\",header = None)\n",
    "rating_raw = pd.read_csv(\"ratings.csv\", header = None)\n",
    "rating_test = pd.read_csv(\"ratings_test.csv\", header = None)\n",
    "rating_array = np.array(rating_raw)\n",
    "\n",
    "# find the dimension of the matrix\n",
    "nrow = int(np.max(rating_array[:,0]))\n",
    "ncol = int(np.max(rating_array[:, 1]))\n",
    "#initialize the m matrix\n",
    "M_matrix = np.zeros(shape = (nrow, ncol))"
   ]
  },
  {
   "cell_type": "code",
   "execution_count": 821,
   "metadata": {
    "collapsed": false
   },
   "outputs": [],
   "source": [
    "#parse the M matrix from data\n",
    "for i in range(len(rating_array)):\n",
    "    row = int(rating_array[i][0]) - 1\n",
    "    col = int(rating_array[i][1]) - 1\n",
    "    M_matrix[row][col] = rating_array[i][2]\n",
    "    \n",
    "# notate the location of value in the matrix\n",
    "M_value = np.array(np.where(M_matrix != 0))\n",
    "M_value = M_value.T"
   ]
  },
  {
   "cell_type": "code",
   "execution_count": null,
   "metadata": {
    "collapsed": false
   },
   "outputs": [],
   "source": []
  },
  {
   "cell_type": "code",
   "execution_count": 822,
   "metadata": {
    "collapsed": false,
    "deletable": true,
    "editable": true
   },
   "outputs": [],
   "source": [
    "#define the function to update u\n",
    "# def u_update(u, v):\n",
    "#     identity = 0.25*np.identity(10)\n",
    "#     for i in range(nrow):\n",
    "#         vsum1 = np.zeros(shape = (10, 10))\n",
    "#         vsum2 = np.zeros(shape = (10, 1))\n",
    "#         for j in range(ncol):\n",
    "#             if M_matrix[i][j] != 0:\n",
    "#                 vsum1 += v[:, j] * v[:, j].T\n",
    "#                 vsum2 += (M_matrix[i][j] * v[:, j]).reshape(10, 1)\n",
    "#         temp = np.linalg.inv(identity + vsum1)\n",
    "#         u[i] = np.dot(temp, vsum2).reshape(1, 10)\n",
    "#     return u\n",
    "# def u_update(u, v):\n",
    "#     identity = 0.25*np.identity(10)\n",
    "#     for i in range(nrow):\n",
    "#         vsum1 = np.zeros(shape = (10, 10))\n",
    "#         vsum2 = np.zeros(shape = (10, 1))\n",
    "#         for j in M_value[np.where(M_value[:,0] == i)][:,1]:\n",
    "#             vsum1 += v[:, j] * v[:, j].T\n",
    "#             vsum2 += (M_matrix[i][j] * v[:, j]).reshape(10, 1)\n",
    "#         temp = np.linalg.inv(identity + vsum1)\n",
    "#         u[i] = np.dot(temp, vsum2).reshape(1, 10)\n",
    "#     return u\n",
    "def u_update(u, v):\n",
    "    vsum1 = {}\n",
    "    vsum2 = {}\n",
    "    identity = 0.25*np.identity(10)\n",
    "    for [i, j] in M_value:\n",
    "        if i not in vsum1:\n",
    "            vsum1[i] = v[:, j] * v[:, j].T\n",
    "            vsum2[i] = (M_matrix[i][j] * v[:, j]).reshape(10, 1)\n",
    "        else:\n",
    "            vsum1[i] += v[:, j] * v[:, j].T\n",
    "            vsum2[i] += (M_matrix[i][j] * v[:, j]).reshape(10, 1)\n",
    "    for i in range(len(vsum1)):\n",
    "        temp = np.linalg.inv(identity + vsum1[i])\n",
    "        u[i] = np.dot(temp, vsum2[i]).reshape(1, 10)\n",
    "    return u"
   ]
  },
  {
   "cell_type": "code",
   "execution_count": 823,
   "metadata": {
    "collapsed": true,
    "deletable": true,
    "editable": true
   },
   "outputs": [],
   "source": [
    "#initialize u and v\n",
    "def initialize():\n",
    "    u_matrix = np.random.normal(0, 1, size = (nrow, 10))\n",
    "    v_matrix = np.random.normal(0, 1, size = (10, ncol))\n",
    "    return np.matrix(u_matrix), np.matrix(v_matrix)"
   ]
  },
  {
   "cell_type": "code",
   "execution_count": 824,
   "metadata": {
    "collapsed": true,
    "deletable": true,
    "editable": true
   },
   "outputs": [],
   "source": [
    "#define the function to update v\n",
    "# def v_update(u, v):\n",
    "#     identity = 0.25*np.identity(10)\n",
    "#     for j in range(ncol):\n",
    "#         usum1 = np.zeros(shape = (10, 10))\n",
    "#         usum2 = np.zeros(shape = (10, 1))\n",
    "#         for i in M_value[np.where(M_value[:,1] == j)][:,0]:\n",
    "#             usum1 += u[i,:].T * u[i,:]\n",
    "#             usum2 += M_matrix[i][j] * u[i,:].T\n",
    "#         temp = np.linalg.inv(identity + usum1)\n",
    "#         v[:,j] = np.dot(temp, usum2)\n",
    "#     return v\n",
    "def v_update(u, v):\n",
    "    usum1 = {}\n",
    "    usum2 = {}\n",
    "    identity = 0.25*np.identity(10)\n",
    "    for [i, j] in M_value:\n",
    "        if j not in usum1:\n",
    "            usum1[j] = u[i,:].T * u[i,:]\n",
    "            usum2[j] = M_matrix[i][j] * u[i,:].T\n",
    "        else:\n",
    "            usum1[j] += u[i,:].T * u[i,:]\n",
    "            usum2[j] += M_matrix[i][j] * u[i,:].T\n",
    "    for j in range(len(usum1)):\n",
    "        if j in usum1:\n",
    "            temp = np.linalg.inv(identity + usum1[j])\n",
    "            v[:,j] = np.dot(temp, usum2[j])\n",
    "        else:\n",
    "            v[:,j] = np.zeros(shape = (10, 1))\n",
    "    return v\n",
    "        "
   ]
  },
  {
   "cell_type": "code",
   "execution_count": 825,
   "metadata": {
    "collapsed": true,
    "deletable": true,
    "editable": true
   },
   "outputs": [],
   "source": [
    "#calculate the joint likelyhood\n",
    "def likelihoodcal(u, v):\n",
    "    conditional = 0\n",
    "    prior_u = 0\n",
    "    prior_v = 0\n",
    "    const_prior = -5*math.log(2*math.pi)\n",
    "    const_condi = -0.5 * math.log(0.5*math.pi)\n",
    "    for i in range(nrow):\n",
    "        prior_u += const_prior - 0.5 *(u[i]*u[i].T)     \n",
    "    for j in range(ncol):\n",
    "\n",
    "        prior_v += const_prior - 0.5*(v[:,j].T * v[:,j])\n",
    "    for [i, j] in M_value:\n",
    "        conditional += const_condi - 2 * ((M_matrix[i][j] - u[i]*v[:,j])**2)\n",
    "\n",
    "    return float(conditional + prior_u + prior_v)\n",
    "                "
   ]
  },
  {
   "cell_type": "code",
   "execution_count": 826,
   "metadata": {
    "collapsed": false,
    "deletable": true,
    "editable": true
   },
   "outputs": [],
   "source": [
    "def main1():\n",
    "    likelihood = []\n",
    "    utrain = []\n",
    "    vtrain = []\n",
    "    for t in range(10):\n",
    "        u, v = initialize()\n",
    "        temp = []\n",
    "        for i in range(100):\n",
    "            u = u_update(u, v)\n",
    "            v = v_update(u, v)\n",
    "            temp.append(likelihoodcal(u, v))\n",
    "        likelihood.append(temp + [])\n",
    "        utrain.append(u.copy())\n",
    "        vtrain.append(v.copy())\n",
    "        \n",
    "    return utrain, vtrain, likelihood"
   ]
  },
  {
   "cell_type": "code",
   "execution_count": 827,
   "metadata": {
    "collapsed": false,
    "deletable": true,
    "editable": true
   },
   "outputs": [],
   "source": [
    "utrain, vtrain, likelihood = main1()"
   ]
  },
  {
   "cell_type": "code",
   "execution_count": 828,
   "metadata": {
    "collapsed": false,
    "deletable": true,
    "editable": true
   },
   "outputs": [
    {
     "data": {
      "image/png": "[encoded data removed]",
      "text/plain": [
       "<matplotlib.figure.Figure at 0x112882f10>"
      ]
     },
     "metadata": {},
     "output_type": "display_data"
    }
   ],
   "source": [
    "plt.style.use('fivethirtyeight')\n",
    "# Fixing random state for reproducibility\n",
    "fig, ax = plt.subplots()\n",
    "\n",
    "ax.plot(range(2, 101), likelihood[0][1:], label = \"time1\" , linewidth=0.5)\n",
    "ax.plot(range(2, 101), likelihood[1][1:], label = \"time2\" , linewidth=0.5)\n",
    "ax.plot(range(2, 101), likelihood[2][1:], label = \"time3\" , linewidth=0.5)\n",
    "ax.plot(range(2, 101), likelihood[3][1:], label = \"time4\" , linewidth=0.5)\n",
    "ax.plot(range(2, 101), likelihood[4][1:], label = \"time5\" , linewidth=0.5)\n",
    "ax.plot(range(2, 101), likelihood[5][1:], label = \"time6\" , linewidth=0.5)\n",
    "ax.plot(range(2, 101), likelihood[6][1:], label = \"time7\" , linewidth=0.5)\n",
    "ax.plot(range(2, 101), likelihood[7][1:], label = \"time8\" , linewidth=0.5)\n",
    "ax.plot(range(2, 101), likelihood[8][1:], label = \"time9\" , linewidth=0.5)\n",
    "ax.plot(range(2, 101), likelihood[9][1:], label = \"time10\" , linewidth=0.5)\n",
    "plt.legend(bbox_to_anchor=(1.05, 1), loc=2, borderaxespad=0.)\n",
    "ax.set_title(\"Likelihood of 10 run\")\n",
    "\n",
    "plt.show()"
   ]
  },
  {
   "cell_type": "code",
   "execution_count": 829,
   "metadata": {
    "collapsed": false,
    "deletable": true,
    "editable": true
   },
   "outputs": [],
   "source": [
    "test = np.array(rating_test)"
   ]
  },
  {
   "cell_type": "code",
   "execution_count": 830,
   "metadata": {
    "collapsed": false
   },
   "outputs": [],
   "source": [
    "def calculate_L(u, v):\n",
    "    l_u = 0\n",
    "    l_v = 0\n",
    "    l_m = 0\n",
    "    for i in range(nrow):\n",
    "        l_u += -0.5 * ((u[i] * u[i].T))\n",
    "#         for j in range(ncol):\n",
    "#             if M_matrix[i][j] != 0:\n",
    "#                 l_m += -2 * ((M_matrix[i][j] - u[i]*v[:,j]) ** 2)\n",
    "    for j in range(ncol):\n",
    "        l_v += -0.5 * (v[:,j].T * v[:, j])\n",
    "    \n",
    "    for [i, j] in M_value:\n",
    "        l_m += -2 * ((M_matrix[i][j] - u[i]*v[:,j]) ** 2)\n",
    "    \n",
    "    return float(l_u + l_v + l_m)\n",
    "    \n",
    "L_function = []\n",
    "for i in range(10):\n",
    "    L_function.append(calculate_L(utrain[i], vtrain[i]))\n"
   ]
  },
  {
   "cell_type": "code",
   "execution_count": 831,
   "metadata": {
    "collapsed": false,
    "deletable": true,
    "editable": true
   },
   "outputs": [],
   "source": [
    "def calculate_rmse(u, v):\n",
    "    predict = []\n",
    "    for i in range(test.shape[0]):\n",
    "        u_index = int(test[i][0]) - 1\n",
    "        v_index = int(test[i][1]) - 1\n",
    "        predict.append(np.dot(u[u_index], v[:,v_index]))\n",
    "    predict = np.array(predict)\n",
    "    return np.sum((predict.reshape(test.shape[0],) - test[:,2]) ** 2)/test.shape[0]\n",
    "\n",
    "#calculate the RMSE for every run\n",
    "RMSE = []\n",
    "for i in range(10):\n",
    "    RMSE.append(calculate_rmse(utrain[i], vtrain[i]))"
   ]
  },
  {
   "cell_type": "code",
   "execution_count": 832,
   "metadata": {
    "collapsed": false
   },
   "outputs": [],
   "source": [
    "df = []\n",
    "df.append(L_function)\n",
    "df.append(RMSE)\n",
    "df = -1 * np.array(df).T\n",
    "df = -1 * df[np.argsort(df[:, 0])]"
   ]
  },
  {
   "cell_type": "code",
   "execution_count": 833,
   "metadata": {
    "collapsed": false
   },
   "outputs": [
    {
     "data": {
      "text/html": [
       "<div>\n",
       "<table border=\"1\" class=\"dataframe\">\n",
       "  <thead>\n",
       "    <tr style=\"text-align: right;\">\n",
       "      <th></th>\n",
       "      <th>Object Function</th>\n",
       "      <th>RMSE</th>\n",
       "    </tr>\n",
       "  </thead>\n",
       "  <tbody>\n",
       "    <tr>\n",
       "      <th>1</th>\n",
       "      <td>-91398.044246</td>\n",
       "      <td>1.245980</td>\n",
       "    </tr>\n",
       "    <tr>\n",
       "      <th>2</th>\n",
       "      <td>-91105.539183</td>\n",
       "      <td>1.246801</td>\n",
       "    </tr>\n",
       "    <tr>\n",
       "      <th>3</th>\n",
       "      <td>-91259.318976</td>\n",
       "      <td>1.233302</td>\n",
       "    </tr>\n",
       "    <tr>\n",
       "      <th>4</th>\n",
       "      <td>-91359.367381</td>\n",
       "      <td>1.219105</td>\n",
       "    </tr>\n",
       "    <tr>\n",
       "      <th>5</th>\n",
       "      <td>-91578.882546</td>\n",
       "      <td>1.279882</td>\n",
       "    </tr>\n",
       "    <tr>\n",
       "      <th>6</th>\n",
       "      <td>-91382.476820</td>\n",
       "      <td>1.243551</td>\n",
       "    </tr>\n",
       "    <tr>\n",
       "      <th>7</th>\n",
       "      <td>-91038.349094</td>\n",
       "      <td>1.192291</td>\n",
       "    </tr>\n",
       "    <tr>\n",
       "      <th>8</th>\n",
       "      <td>-91218.430402</td>\n",
       "      <td>1.216273</td>\n",
       "    </tr>\n",
       "    <tr>\n",
       "      <th>9</th>\n",
       "      <td>-91050.664455</td>\n",
       "      <td>1.223734</td>\n",
       "    </tr>\n",
       "    <tr>\n",
       "      <th>10</th>\n",
       "      <td>-91074.485949</td>\n",
       "      <td>1.184220</td>\n",
       "    </tr>\n",
       "  </tbody>\n",
       "</table>\n",
       "</div>"
      ],
      "text/plain": [
       "    Object Function      RMSE\n",
       "1     -91398.044246  1.245980\n",
       "2     -91105.539183  1.246801\n",
       "3     -91259.318976  1.233302\n",
       "4     -91359.367381  1.219105\n",
       "5     -91578.882546  1.279882\n",
       "6     -91382.476820  1.243551\n",
       "7     -91038.349094  1.192291\n",
       "8     -91218.430402  1.216273\n",
       "9     -91050.664455  1.223734\n",
       "10    -91074.485949  1.184220"
      ]
     },
     "execution_count": 833,
     "metadata": {},
     "output_type": "execute_result"
    }
   ],
   "source": [
    "table = {'Object Function' : pd.Series(L_function, index=range(1, 11)),'RMSE' : pd.Series(RMSE, index=range(1, 11))}\n",
    "show = pd.DataFrame(table, columns=['Object Function', 'RMSE'])\n",
    "show"
   ]
  },
  {
   "cell_type": "code",
   "execution_count": 834,
   "metadata": {
    "collapsed": false
   },
   "outputs": [
    {
     "data": {
      "text/html": [
       "<div>\n",
       "<table border=\"1\" class=\"dataframe\">\n",
       "  <thead>\n",
       "    <tr style=\"text-align: right;\">\n",
       "      <th></th>\n",
       "      <th>Object Function</th>\n",
       "      <th>RMSE</th>\n",
       "    </tr>\n",
       "  </thead>\n",
       "  <tbody>\n",
       "    <tr>\n",
       "      <th>1</th>\n",
       "      <td>-91038.349094</td>\n",
       "      <td>1.192291</td>\n",
       "    </tr>\n",
       "    <tr>\n",
       "      <th>2</th>\n",
       "      <td>-91050.664455</td>\n",
       "      <td>1.223734</td>\n",
       "    </tr>\n",
       "    <tr>\n",
       "      <th>3</th>\n",
       "      <td>-91074.485949</td>\n",
       "      <td>1.184220</td>\n",
       "    </tr>\n",
       "    <tr>\n",
       "      <th>4</th>\n",
       "      <td>-91105.539183</td>\n",
       "      <td>1.246801</td>\n",
       "    </tr>\n",
       "    <tr>\n",
       "      <th>5</th>\n",
       "      <td>-91218.430402</td>\n",
       "      <td>1.216273</td>\n",
       "    </tr>\n",
       "    <tr>\n",
       "      <th>6</th>\n",
       "      <td>-91259.318976</td>\n",
       "      <td>1.233302</td>\n",
       "    </tr>\n",
       "    <tr>\n",
       "      <th>7</th>\n",
       "      <td>-91359.367381</td>\n",
       "      <td>1.219105</td>\n",
       "    </tr>\n",
       "    <tr>\n",
       "      <th>8</th>\n",
       "      <td>-91382.476820</td>\n",
       "      <td>1.243551</td>\n",
       "    </tr>\n",
       "    <tr>\n",
       "      <th>9</th>\n",
       "      <td>-91398.044246</td>\n",
       "      <td>1.245980</td>\n",
       "    </tr>\n",
       "    <tr>\n",
       "      <th>10</th>\n",
       "      <td>-91578.882546</td>\n",
       "      <td>1.279882</td>\n",
       "    </tr>\n",
       "  </tbody>\n",
       "</table>\n",
       "</div>"
      ],
      "text/plain": [
       "    Object Function      RMSE\n",
       "1     -91038.349094  1.192291\n",
       "2     -91050.664455  1.223734\n",
       "3     -91074.485949  1.184220\n",
       "4     -91105.539183  1.246801\n",
       "5     -91218.430402  1.216273\n",
       "6     -91259.318976  1.233302\n",
       "7     -91359.367381  1.219105\n",
       "8     -91382.476820  1.243551\n",
       "9     -91398.044246  1.245980\n",
       "10    -91578.882546  1.279882"
      ]
     },
     "execution_count": 834,
     "metadata": {},
     "output_type": "execute_result"
    }
   ],
   "source": [
    "table_s = {'Object Function' : pd.Series(df[:, 0], index=range(1, 11)),'RMSE' : pd.Series(df[:, 1], index=range(1, 11))}\n",
    "show_s = pd.DataFrame(table_s, columns=['Object Function', 'RMSE'])\n",
    "show_s"
   ]
  },
  {
   "cell_type": "code",
   "execution_count": 835,
   "metadata": {
    "collapsed": false
   },
   "outputs": [],
   "source": [
    "#questions 2\n",
    "index_1 = int((np.where(np.array(movies_raw) == 'Star Wars (1977)')[0]))\n",
    "index_2 = int((np.where(np.array(movies_raw) == 'My Fair Lady (1964)')[0]))\n",
    "index_3 = int((np.where(np.array(movies_raw) == 'GoodFellas (1990)')[0]))"
   ]
  },
  {
   "cell_type": "code",
   "execution_count": 836,
   "metadata": {
    "collapsed": false
   },
   "outputs": [
    {
     "data": {
      "text/plain": [
       "6"
      ]
     },
     "execution_count": 836,
     "metadata": {},
     "output_type": "execute_result"
    }
   ],
   "source": [
    "np.argmax(L_function)"
   ]
  },
  {
   "cell_type": "code",
   "execution_count": 837,
   "metadata": {
    "collapsed": false
   },
   "outputs": [],
   "source": [
    "v_min = vtrain[np.argmax(L_function)]\n",
    "v_starw = v_min[:, index_1]\n",
    "v_lady = v_min[:, index_2]\n",
    "v_fellas = v_min[:, index_3]"
   ]
  },
  {
   "cell_type": "code",
   "execution_count": 838,
   "metadata": {
    "collapsed": false
   },
   "outputs": [],
   "source": [
    "distance_1 = np.linalg.norm((v_starw - v_min), axis = 0)\n",
    "distance_2 = np.linalg.norm((v_lady - v_min), axis = 0)\n",
    "distance_3 = np.linalg.norm((v_fellas - v_min), axis = 0)"
   ]
  },
  {
   "cell_type": "code",
   "execution_count": 839,
   "metadata": {
    "collapsed": false
   },
   "outputs": [],
   "source": [
    "closest_index1 = np.argsort(distance_1)[:11][1:]\n",
    "closest_index2 = np.argsort(distance_2)[:11][1:]\n",
    "closest_index3 = np.argsort(distance_3)[:11][1:]"
   ]
  },
  {
   "cell_type": "code",
   "execution_count": 840,
   "metadata": {
    "collapsed": false
   },
   "outputs": [],
   "source": [
    "result = []\n",
    "for index in [closest_index1, closest_index2, closest_index3]:    \n",
    "    for element in index:\n",
    "        result.append(str(np.array(movies_raw)[element][0]))"
   ]
  },
  {
   "cell_type": "code",
   "execution_count": 841,
   "metadata": {
    "collapsed": false
   },
   "outputs": [],
   "source": [
    "closest_1 = result[:10]\n",
    "closest_2 = result[10:20]\n",
    "closest_3 = result[20:]"
   ]
  },
  {
   "cell_type": "code",
   "execution_count": 842,
   "metadata": {
    "collapsed": false
   },
   "outputs": [
    {
     "data": {
      "text/html": [
       "<div>\n",
       "<table border=\"1\" class=\"dataframe\">\n",
       "  <thead>\n",
       "    <tr style=\"text-align: right;\">\n",
       "      <th></th>\n",
       "      <th>GoodFellas (1990)</th>\n",
       "      <th>My Fair Lady (1964)</th>\n",
       "      <th>Star Wars (1977)</th>\n",
       "    </tr>\n",
       "  </thead>\n",
       "  <tbody>\n",
       "    <tr>\n",
       "      <th>1</th>\n",
       "      <td>Good, The Bad and The Ugly, The (1966)</td>\n",
       "      <td>Sound of Music, The (1965)</td>\n",
       "      <td>Empire Strikes Back, The (1980)</td>\n",
       "    </tr>\n",
       "    <tr>\n",
       "      <th>2</th>\n",
       "      <td>Bonnie and Clyde (1967)</td>\n",
       "      <td>Victor/Victoria (1982)</td>\n",
       "      <td>Raiders of the Lost Ark (1981)</td>\n",
       "    </tr>\n",
       "    <tr>\n",
       "      <th>3</th>\n",
       "      <td>Full Metal Jacket (1987)</td>\n",
       "      <td>Mary Poppins (1964)</td>\n",
       "      <td>Return of the Jedi (1983)</td>\n",
       "    </tr>\n",
       "    <tr>\n",
       "      <th>4</th>\n",
       "      <td>Once Upon a Time in the West (1969)</td>\n",
       "      <td>American in Paris, An (1951)</td>\n",
       "      <td>Manon of the Spring (Manon des sources) (1986)</td>\n",
       "    </tr>\n",
       "    <tr>\n",
       "      <th>5</th>\n",
       "      <td>Godfather: Part II, The (1974)</td>\n",
       "      <td>Babe (1995)</td>\n",
       "      <td>Wrong Trousers, The (1993)</td>\n",
       "    </tr>\n",
       "    <tr>\n",
       "      <th>6</th>\n",
       "      <td>Casino (1995)</td>\n",
       "      <td>Gone with the Wind (1939)</td>\n",
       "      <td>Usual Suspects, The (1995)</td>\n",
       "    </tr>\n",
       "    <tr>\n",
       "      <th>7</th>\n",
       "      <td>Apocalypse Now (1979)</td>\n",
       "      <td>Widows' Peak (1994)</td>\n",
       "      <td>Love in the Afternoon (1957)</td>\n",
       "    </tr>\n",
       "    <tr>\n",
       "      <th>8</th>\n",
       "      <td>Cool Hand Luke (1967)</td>\n",
       "      <td>Shadowlands (1993)</td>\n",
       "      <td>Indiana Jones and the Last Crusade (1989)</td>\n",
       "    </tr>\n",
       "    <tr>\n",
       "      <th>9</th>\n",
       "      <td>Alien (1979)</td>\n",
       "      <td>Cinderella (1950)</td>\n",
       "      <td>Sting, The (1973)</td>\n",
       "    </tr>\n",
       "    <tr>\n",
       "      <th>10</th>\n",
       "      <td>Godfather, The (1972)</td>\n",
       "      <td>Snow White and the Seven Dwarfs (1937)</td>\n",
       "      <td>My Man Godfrey (1936)</td>\n",
       "    </tr>\n",
       "  </tbody>\n",
       "</table>\n",
       "</div>"
      ],
      "text/plain": [
       "                         GoodFellas (1990)  \\\n",
       "1   Good, The Bad and The Ugly, The (1966)   \n",
       "2                  Bonnie and Clyde (1967)   \n",
       "3                 Full Metal Jacket (1987)   \n",
       "4      Once Upon a Time in the West (1969)   \n",
       "5           Godfather: Part II, The (1974)   \n",
       "6                            Casino (1995)   \n",
       "7                    Apocalypse Now (1979)   \n",
       "8                    Cool Hand Luke (1967)   \n",
       "9                             Alien (1979)   \n",
       "10                   Godfather, The (1972)   \n",
       "\n",
       "                       My Fair Lady (1964)  \\\n",
       "1               Sound of Music, The (1965)   \n",
       "2                   Victor/Victoria (1982)   \n",
       "3                      Mary Poppins (1964)   \n",
       "4             American in Paris, An (1951)   \n",
       "5                              Babe (1995)   \n",
       "6                Gone with the Wind (1939)   \n",
       "7                      Widows' Peak (1994)   \n",
       "8                       Shadowlands (1993)   \n",
       "9                        Cinderella (1950)   \n",
       "10  Snow White and the Seven Dwarfs (1937)   \n",
       "\n",
       "                                  Star Wars (1977)  \n",
       "1                  Empire Strikes Back, The (1980)  \n",
       "2                   Raiders of the Lost Ark (1981)  \n",
       "3                        Return of the Jedi (1983)  \n",
       "4   Manon of the Spring (Manon des sources) (1986)  \n",
       "5                       Wrong Trousers, The (1993)  \n",
       "6                       Usual Suspects, The (1995)  \n",
       "7                     Love in the Afternoon (1957)  \n",
       "8        Indiana Jones and the Last Crusade (1989)  \n",
       "9                                Sting, The (1973)  \n",
       "10                           My Man Godfrey (1936)  "
      ]
     },
     "execution_count": 842,
     "metadata": {},
     "output_type": "execute_result"
    }
   ],
   "source": [
    "table_closest = {'Star Wars (1977)' : pd.Series(closest_1, index=range(1, 11)),'My Fair Lady (1964)' : pd.Series(closest_2, index=range(1, 11)),\n",
    "          'GoodFellas (1990)':pd.Series(closest_3, index = range(1, 11))}\n",
    "show_closest = pd.DataFrame(table_closest)\n",
    "show_closest"
   ]
  },
  {
   "cell_type": "code",
   "execution_count": 843,
   "metadata": {
    "collapsed": false
   },
   "outputs": [],
   "source": [
    "dis_1 = distance_1[closest_index1]\n",
    "dis_2 = distance_2[closest_index2]\n",
    "dis_3 = distance_3[closest_index3]"
   ]
  },
  {
   "cell_type": "code",
   "execution_count": 844,
   "metadata": {
    "collapsed": false
   },
   "outputs": [
    {
     "data": {
      "text/html": [
       "<div>\n",
       "<table border=\"1\" class=\"dataframe\">\n",
       "  <thead>\n",
       "    <tr style=\"text-align: right;\">\n",
       "      <th></th>\n",
       "      <th>GoodFellas (1990) distance</th>\n",
       "      <th>My Fair Lady (1964) distance</th>\n",
       "      <th>Star Wars (1977) distance</th>\n",
       "    </tr>\n",
       "  </thead>\n",
       "  <tbody>\n",
       "    <tr>\n",
       "      <th>1</th>\n",
       "      <td>0.508438</td>\n",
       "      <td>0.929460</td>\n",
       "      <td>0.352890</td>\n",
       "    </tr>\n",
       "    <tr>\n",
       "      <th>2</th>\n",
       "      <td>0.692948</td>\n",
       "      <td>0.967567</td>\n",
       "      <td>0.601567</td>\n",
       "    </tr>\n",
       "    <tr>\n",
       "      <th>3</th>\n",
       "      <td>0.716061</td>\n",
       "      <td>0.975687</td>\n",
       "      <td>0.651301</td>\n",
       "    </tr>\n",
       "    <tr>\n",
       "      <th>4</th>\n",
       "      <td>0.728243</td>\n",
       "      <td>0.983534</td>\n",
       "      <td>0.657293</td>\n",
       "    </tr>\n",
       "    <tr>\n",
       "      <th>5</th>\n",
       "      <td>0.779609</td>\n",
       "      <td>1.090169</td>\n",
       "      <td>0.700069</td>\n",
       "    </tr>\n",
       "    <tr>\n",
       "      <th>6</th>\n",
       "      <td>0.799471</td>\n",
       "      <td>1.109217</td>\n",
       "      <td>0.808380</td>\n",
       "    </tr>\n",
       "    <tr>\n",
       "      <th>7</th>\n",
       "      <td>0.831925</td>\n",
       "      <td>1.126381</td>\n",
       "      <td>0.836625</td>\n",
       "    </tr>\n",
       "    <tr>\n",
       "      <th>8</th>\n",
       "      <td>0.836140</td>\n",
       "      <td>1.127998</td>\n",
       "      <td>0.841561</td>\n",
       "    </tr>\n",
       "    <tr>\n",
       "      <th>9</th>\n",
       "      <td>0.888907</td>\n",
       "      <td>1.165938</td>\n",
       "      <td>0.953060</td>\n",
       "    </tr>\n",
       "    <tr>\n",
       "      <th>10</th>\n",
       "      <td>0.917189</td>\n",
       "      <td>1.191135</td>\n",
       "      <td>0.960067</td>\n",
       "    </tr>\n",
       "  </tbody>\n",
       "</table>\n",
       "</div>"
      ],
      "text/plain": [
       "    GoodFellas (1990) distance  My Fair Lady (1964) distance  \\\n",
       "1                     0.508438                      0.929460   \n",
       "2                     0.692948                      0.967567   \n",
       "3                     0.716061                      0.975687   \n",
       "4                     0.728243                      0.983534   \n",
       "5                     0.779609                      1.090169   \n",
       "6                     0.799471                      1.109217   \n",
       "7                     0.831925                      1.126381   \n",
       "8                     0.836140                      1.127998   \n",
       "9                     0.888907                      1.165938   \n",
       "10                    0.917189                      1.191135   \n",
       "\n",
       "    Star Wars (1977) distance  \n",
       "1                    0.352890  \n",
       "2                    0.601567  \n",
       "3                    0.651301  \n",
       "4                    0.657293  \n",
       "5                    0.700069  \n",
       "6                    0.808380  \n",
       "7                    0.836625  \n",
       "8                    0.841561  \n",
       "9                    0.953060  \n",
       "10                   0.960067  "
      ]
     },
     "execution_count": 844,
     "metadata": {},
     "output_type": "execute_result"
    }
   ],
   "source": [
    "table_closest2 = {'Star Wars (1977) distance' : pd.Series(dis_1, index=range(1, 11)),'My Fair Lady (1964) distance' : pd.Series(dis_2, index=range(1, 11)),\n",
    "          'GoodFellas (1990) distance':pd.Series(dis_3, index = range(1, 11))}\n",
    "show_closest2 = pd.DataFrame(table_closest2)\n",
    "show_closest2"
   ]
  },
  {
   "cell_type": "code",
   "execution_count": 845,
   "metadata": {
    "collapsed": false
   },
   "outputs": [
    {
     "data": {
      "text/plain": [
       "(array([142]), array([0]))"
      ]
     },
     "execution_count": 845,
     "metadata": {},
     "output_type": "execute_result"
    }
   ],
   "source": [
    "np.where(np.array(movies_raw) == \"Sound of Music, The (1965)\")"
   ]
  },
  {
   "cell_type": "code",
   "execution_count": 846,
   "metadata": {
    "collapsed": false
   },
   "outputs": [
    {
     "data": {
      "text/plain": [
       "(array([484]), array([0]))"
      ]
     },
     "execution_count": 846,
     "metadata": {},
     "output_type": "execute_result"
    }
   ],
   "source": [
    "np.where(np.array(movies_raw) == 'My Fair Lady (1964)')"
   ]
  },
  {
   "cell_type": "code",
   "execution_count": 847,
   "metadata": {
    "collapsed": false
   },
   "outputs": [
    {
     "data": {
      "text/plain": [
       "3.2448621894182392"
      ]
     },
     "execution_count": 847,
     "metadata": {},
     "output_type": "execute_result"
    }
   ],
   "source": [
    "np.linalg.norm(vtrain[5][:,142] - vtrain[6][:,484])"
   ]
  },
  {
   "cell_type": "code",
   "execution_count": null,
   "metadata": {
    "collapsed": true
   },
   "outputs": [],
   "source": []
  }
 ],
 "metadata": {
  "kernelspec": {
   "display_name": "Python 2",
   "language": "python",
   "name": "python2"
  },
  "language_info": {
   "codemirror_mode": {
    "name": "ipython",
    "version": 2
   },
   "file_extension": ".py",
   "mimetype": "text/x-python",
   "name": "python",
   "nbconvert_exporter": "python",
   "pygments_lexer": "ipython2",
   "version": "2.7.13"
  }
 },
 "nbformat": 4,
 "nbformat_minor": 2
}
